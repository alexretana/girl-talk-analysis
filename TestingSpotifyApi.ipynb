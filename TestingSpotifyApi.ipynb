{
 "cells": [
  {
   "cell_type": "code",
   "execution_count": 1,
   "metadata": {},
   "outputs": [],
   "source": [
    "import requests\n",
    "import base64\n",
    "from urllib.parse import urlencode\n",
    "import json\n",
    "import datetime\n",
    "\n",
    "#import constants from KEYS module. create a module called KEYS.py and Add your own Client ID and Client Secret to it\n",
    "import KEYS"
   ]
  },
  {
   "cell_type": "code",
   "execution_count": 2,
   "metadata": {},
   "outputs": [
    {
     "data": {
      "text/plain": [
       "'2.25.1'"
      ]
     },
     "execution_count": 2,
     "metadata": {},
     "output_type": "execute_result"
    }
   ],
   "source": [
    "requests.__version__"
   ]
  },
  {
   "cell_type": "code",
   "execution_count": 3,
   "metadata": {},
   "outputs": [],
   "source": [
    "#assign keys to values here\n",
    "\n",
    "client_id = KEYS.CLIENT_ID\n",
    "client_secret = KEYS.CLIENT_SECRET"
   ]
  },
  {
   "cell_type": "code",
   "execution_count": 4,
   "metadata": {},
   "outputs": [
    {
     "name": "stdout",
     "output_type": "stream",
     "text": [
      "af37f76b6c204b16b5f781ce1e54603d:cdc8546a2bdd42ea96f3fe6a860ac1d3\n",
      "af37f76b6c204b16b5f781ce1e54603d:cdc8546a2bdd42ea96f3fe6a860ac1d3\n",
      "YWYzN2Y3NmI2YzIwNGIxNmI1Zjc4MWNlMWU1NDYwM2Q6Y2RjODU0NmEyYmRkNDJlYTk2ZjNmZTZhODYwYWMxZDM=\n"
     ]
    }
   ],
   "source": [
    "#format and encode credential in to expected form for api\n",
    "\n",
    "client_creds = f\"{client_id}:{client_secret}\"\n",
    "client_creds_b64 = base64.b64encode(client_creds.encode())\n",
    "print(base64.b64decode(client_creds_b64).decode())\n",
    "print(client_creds)\n",
    "print(client_creds_b64.decode())"
   ]
  },
  {
   "cell_type": "code",
   "execution_count": 5,
   "metadata": {},
   "outputs": [],
   "source": [
    "#Builds the parts of the querey\n",
    "token_url = \"https://accounts.spotify.com/api/token\"\n",
    "method = \"POST\"\n",
    "token_data = {\n",
    "    \"grant_type\":\"client_credentials\",\n",
    "}\n",
    "token_headers = {\n",
    "    \"Authorization\" : f\"Basic {client_creds_b64.decode()}\",\n",
    "}"
   ]
  },
  {
   "cell_type": "code",
   "execution_count": 6,
   "metadata": {},
   "outputs": [
    {
     "name": "stdout",
     "output_type": "stream",
     "text": [
      "{'access_token': 'BQD0r0eyl-C75DV2WcK3OCi6wTkYit_K3HEMMiueCAeoyKVoIGrq4kA7ZhN9fhUoedoWt6IPQL2UrY9Oshw', 'token_type': 'Bearer', 'expires_in': 3600}\n"
     ]
    }
   ],
   "source": [
    "#makes GET request to spotify API\n",
    "r = requests.post(token_url, headers=token_headers, data=token_data)\n",
    "\n",
    "#validates result, then prints\n",
    "valid_request = r.status_code in range(200,299)\n",
    "print(r.json())"
   ]
  },
  {
   "cell_type": "code",
   "execution_count": 7,
   "metadata": {},
   "outputs": [],
   "source": [
    "#uses validation boolean to decide if to parse\n",
    "if valid_request:\n",
    "    token_response_data = r.json() #convert json to dict\n",
    "    now = datetime.datetime.now() # create datetime obj for now\n",
    "    access_token = token_response_data['access_token'] #retrieve token from response\n",
    "    expires_in = token_response_data['expires_in'] #retrieve token lifetime\n",
    "    expires = now + datetime.timedelta(seconds=expires_in) #creates datetime for when token expires\n",
    "    did_expire = expires < datetime.datetime.now() #boolean to rep if expired"
   ]
  },
  {
   "cell_type": "code",
   "execution_count": 8,
   "metadata": {},
   "outputs": [
    {
     "data": {
      "text/plain": [
       "False"
      ]
     },
     "execution_count": 8,
     "metadata": {},
     "output_type": "execute_result"
    }
   ],
   "source": [
    "did_expire"
   ]
  },
  {
   "cell_type": "code",
   "execution_count": 9,
   "metadata": {},
   "outputs": [
    {
     "data": {
      "text/plain": [
       "datetime.datetime(2021, 4, 15, 16, 31, 12, 655671)"
      ]
     },
     "execution_count": 9,
     "metadata": {},
     "output_type": "execute_result"
    }
   ],
   "source": [
    "expires"
   ]
  },
  {
   "cell_type": "code",
   "execution_count": null,
   "metadata": {},
   "outputs": [],
   "source": []
  }
 ],
 "metadata": {
  "kernelspec": {
   "display_name": "Python 3",
   "language": "python",
   "name": "python3"
  },
  "language_info": {
   "codemirror_mode": {
    "name": "ipython",
    "version": 3
   },
   "file_extension": ".py",
   "mimetype": "text/x-python",
   "name": "python",
   "nbconvert_exporter": "python",
   "pygments_lexer": "ipython3",
   "version": "3.6.13"
  }
 },
 "nbformat": 4,
 "nbformat_minor": 4
}
